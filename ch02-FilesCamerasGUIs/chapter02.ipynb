{
 "cells": [
  {
   "cell_type": "markdown",
   "id": "ffc818fb",
   "metadata": {},
   "source": [
    "# Chapter 2: Handling Files, Cameras, and GUIs\n"
   ]
  },
  {
   "cell_type": "code",
   "execution_count": 23,
   "id": "ceee4bff",
   "metadata": {},
   "outputs": [],
   "source": [
    "# Imports\n",
    "import numpy as np\n",
    "import cv2\n",
    "import sys\n",
    "import os"
   ]
  },
  {
   "cell_type": "markdown",
   "id": "95821454",
   "metadata": {},
   "source": [
    "### Basic I/O Scripts"
   ]
  },
  {
   "cell_type": "code",
   "execution_count": 18,
   "id": "8c7bfba3",
   "metadata": {},
   "outputs": [
    {
     "data": {
      "text/plain": [
       "array([[0, 0, 0],\n",
       "       [0, 0, 0],\n",
       "       [0, 0, 0]], dtype=uint8)"
      ]
     },
     "execution_count": 18,
     "metadata": {},
     "output_type": "execute_result"
    }
   ],
   "source": [
    "# Image as a numpy array\n",
    "img = np.zeros((3, 3), dtype = np.uint8)\n",
    "img"
   ]
  },
  {
   "cell_type": "code",
   "execution_count": 19,
   "id": "2affc739",
   "metadata": {},
   "outputs": [
    {
     "data": {
      "text/plain": [
       "array([[[0, 0, 0],\n",
       "        [0, 0, 0],\n",
       "        [0, 0, 0]],\n",
       "\n",
       "       [[0, 0, 0],\n",
       "        [0, 0, 0],\n",
       "        [0, 0, 0]],\n",
       "\n",
       "       [[0, 0, 0],\n",
       "        [0, 0, 0],\n",
       "        [0, 0, 0]]], dtype=uint8)"
      ]
     },
     "execution_count": 19,
     "metadata": {},
     "output_type": "execute_result"
    }
   ],
   "source": [
    "# Image as a blue-green-red format\n",
    "img = cv2.cvtColor(img, cv2.COLOR_GRAY2BGR)\n",
    "img\n",
    "\n",
    "# Each pixel now represented by a B, G, and R value"
   ]
  },
  {
   "cell_type": "code",
   "execution_count": 20,
   "id": "b98c1180",
   "metadata": {},
   "outputs": [],
   "source": [
    "# Images can be loading from one file format and saved to another\n",
    "\n",
    "# Converting png file to jpg file\n",
    "image = cv2.imread('MyPic.png')\n",
    "if image is None:\n",
    "    print('Failed to read image from file')\n",
    "    sys.exit(1)\n",
    "success = cv2.imwrite('./output_images/MyPic.jpg', image)\n",
    "if not success:\n",
    "    print('Failed to write image to file')\n",
    "    sys.exit(1)"
   ]
  },
  {
   "cell_type": "code",
   "execution_count": 21,
   "id": "84376605",
   "metadata": {},
   "outputs": [],
   "source": [
    "# Loading in png as a grayscale image then saving it\n",
    "grayImage = cv2.imread('MyPic.png', cv2.IMREAD_GRAYSCALE)\n",
    "if grayImage is None:\n",
    "    print(\"Failed to read image from file\")\n",
    "    sys.exit(1)\n",
    "success = cv2.imwrite('./output_images/MyPicGray.png', grayImage)\n",
    "if not success:\n",
    "    print(\"Failed to write image to file\")\n",
    "    sys.exit(1)"
   ]
  },
  {
   "cell_type": "code",
   "execution_count": 22,
   "id": "7edfda3e",
   "metadata": {},
   "outputs": [
    {
     "name": "stdout",
     "output_type": "stream",
     "text": [
      "Number of Images: 4\n"
     ]
    }
   ],
   "source": [
    "# Loading in multiple images as a single file using .tiff files\n",
    "\n",
    "success, grayImages = cv2.imreadmulti(\n",
    "    'MyMultiPics.tiff', flags = cv2.IMREAD_GRAYSCALE\n",
    ")\n",
    "if not success:\n",
    "    print('Failed to read images')\n",
    "    sys.exit(1)\n",
    "print('Number of Images:', len(grayImages))\n",
    "success = cv2.imwritemulti('./output_images/MyMultiPicsGray.tiff', grayImages)\n",
    "if not success:\n",
    "    print(\"Failed to write images\")\n",
    "    sys.exit(1)"
   ]
  },
  {
   "cell_type": "code",
   "execution_count": 25,
   "id": "f5ed853b",
   "metadata": {},
   "outputs": [
    {
     "data": {
      "text/plain": [
       "True"
      ]
     },
     "execution_count": 25,
     "metadata": {},
     "output_type": "execute_result"
    }
   ],
   "source": [
    "# Converting between an image and raw bytes\n",
    "\n",
    "# Array of 120,000 random bytes\n",
    "randomByteArray = bytearray(os.urandom(120000))\n",
    "flatNumpyArray = np.array(randomByteArray)\n",
    "\n",
    "# Convert the array into a 400x300 grayscale image\n",
    "grayImage = flatNumpyArray.reshape(300, 400)\n",
    "cv2.imwrite('./output_images/RandomGray.png', grayImage)\n",
    "\n",
    "# Converting into a color image\n",
    "bgrImage = flatNumpyArray.reshape(100, 400, 3)\n",
    "cv2.imwrite('./output_images/RandomColor.png', bgrImage)"
   ]
  },
  {
   "cell_type": "code",
   "execution_count": 32,
   "id": "ff06f6c3",
   "metadata": {},
   "outputs": [
    {
     "data": {
      "text/plain": [
       "True"
      ]
     },
     "execution_count": 32,
     "metadata": {},
     "output_type": "execute_result"
    }
   ],
   "source": [
    "# Accessing image data with np.array\n",
    "\n",
    "# Changing top left pixel to white\n",
    "img = cv2.imread('MyPic.png')\n",
    "img[0, 0] = [255, 255, 255]\n",
    "cv2.imwrite('./output_images/testManipulation.png', img)\n",
    "\n",
    "# Using itemset to change individual pixels -- ITEMSET HAS BEEN REMOVED FROM NUMPY\n",
    "#img = cv2.imread('MyPic.png')\n",
    "#img.itemset((150, 120, 0), 255)\n",
    "#print(img.item(150, 120, 0))\n",
    "\n",
    "# Changing all green values to 0\n",
    "img = cv2.imread('MyPic.png')\n",
    "img[:, :, 1] = 0\n",
    "cv2.imwrite(\"./output_images/NoGreen.png\", img)\n",
    "\n",
    "# Regions of Interest\n",
    "img = cv2.imread('MyPic.png')\n",
    "ROI = img[0:100, 0:100]\n",
    "img[100:200, 100:200] = ROI\n",
    "cv2.imwrite(\"./output_images/ROI.png\", img)"
   ]
  },
  {
   "cell_type": "code",
   "execution_count": null,
   "id": "77178f40",
   "metadata": {},
   "outputs": [],
   "source": [
    "# Converting between np.array and cv2.UMat\n",
    "    # UMat allows for GPU optimizations. whereas numpy does not\n",
    "\n"
   ]
  }
 ],
 "metadata": {
  "kernelspec": {
   "display_name": "base",
   "language": "python",
   "name": "python3"
  },
  "language_info": {
   "codemirror_mode": {
    "name": "ipython",
    "version": 3
   },
   "file_extension": ".py",
   "mimetype": "text/x-python",
   "name": "python",
   "nbconvert_exporter": "python",
   "pygments_lexer": "ipython3",
   "version": "3.10.12"
  }
 },
 "nbformat": 4,
 "nbformat_minor": 5
}
